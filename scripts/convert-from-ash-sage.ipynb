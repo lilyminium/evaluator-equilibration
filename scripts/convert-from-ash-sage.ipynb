{
 "cells": [
  {
   "cell_type": "markdown",
   "id": "3bb47bcf-f206-4b3c-8ce3-6662ce99e123",
   "metadata": {
    "execution": {
     "iopub.execute_input": "2025-07-28T03:27:56.143980Z",
     "iopub.status.busy": "2025-07-28T03:27:56.143715Z",
     "iopub.status.idle": "2025-07-28T03:27:58.538759Z",
     "shell.execute_reply": "2025-07-28T03:27:58.538447Z",
     "shell.execute_reply.started": "2025-07-28T03:27:56.143950Z"
    }
   },
   "source": [
    "# Augment training/validation data"
   ]
  },
  {
   "cell_type": "code",
   "execution_count": 1,
   "id": "7fd57dfe-c93f-4c4e-8a13-918db181fc7b",
   "metadata": {
    "execution": {
     "iopub.execute_input": "2025-07-29T03:08:17.605489Z",
     "iopub.status.busy": "2025-07-29T03:08:17.604989Z",
     "iopub.status.idle": "2025-07-29T03:08:17.897202Z",
     "shell.execute_reply": "2025-07-29T03:08:17.896957Z",
     "shell.execute_reply.started": "2025-07-29T03:08:17.605451Z"
    }
   },
   "outputs": [],
   "source": [
    "import pandas as pd"
   ]
  },
  {
   "cell_type": "markdown",
   "id": "633589d8-d1b8-40af-add3-0686bac4d1b1",
   "metadata": {},
   "source": [
    "## Convert stored data to comparable hashes"
   ]
  },
  {
   "cell_type": "code",
   "execution_count": 2,
   "id": "b214dad3-919e-4630-aee3-58f4b8a52b9b",
   "metadata": {
    "execution": {
     "iopub.execute_input": "2025-07-29T03:08:17.897589Z",
     "iopub.status.busy": "2025-07-29T03:08:17.897493Z",
     "iopub.status.idle": "2025-07-29T03:08:19.901326Z",
     "shell.execute_reply": "2025-07-29T03:08:19.901034Z",
     "shell.execute_reply.started": "2025-07-29T03:08:17.897581Z"
    }
   },
   "outputs": [
    {
     "data": {
      "application/vnd.jupyter.widget-view+json": {
       "model_id": "3bdc8e2d816c4054a5da7aa1366a29b1",
       "version_major": 2,
       "version_minor": 0
      },
      "text/plain": []
     },
     "metadata": {},
     "output_type": "display_data"
    }
   ],
   "source": [
    "from eveq.storage.storage import LocalStoredEquilibrationData"
   ]
  },
  {
   "cell_type": "code",
   "execution_count": 3,
   "id": "12ef2c59-4929-4fec-94c8-3401f7c5689a",
   "metadata": {
    "execution": {
     "iopub.execute_input": "2025-07-29T03:08:19.902013Z",
     "iopub.status.busy": "2025-07-29T03:08:19.901776Z",
     "iopub.status.idle": "2025-07-29T03:08:19.903594Z",
     "shell.execute_reply": "2025-07-29T03:08:19.903350Z",
     "shell.execute_reply.started": "2025-07-29T03:08:19.902004Z"
    }
   },
   "outputs": [],
   "source": [
    "# storage = LocalStoredEquilibrationData.from_localfilestorage(\n",
    "#     lfs_root_directory=\"/Volumes/Nobbsy/combined_equilibration_data/stored_data\",\n",
    "#     new_root_directory=\"../data/stored_data\"\n",
    "# )"
   ]
  },
  {
   "cell_type": "markdown",
   "id": "293489f9-0294-426c-997f-c1a77feedf60",
   "metadata": {},
   "source": [
    "```u_1379389221493640985 u_1379389221493640985 NC1CCCCC1{solv}{x=1.000000} 2.830299353583582```"
   ]
  },
  {
   "cell_type": "code",
   "execution_count": 4,
   "id": "4401808e-bc55-4e40-a6cd-ff18a9c1a74e",
   "metadata": {
    "execution": {
     "iopub.execute_input": "2025-07-29T03:08:19.905969Z",
     "iopub.status.busy": "2025-07-29T03:08:19.905852Z",
     "iopub.status.idle": "2025-07-29T03:08:29.068959Z",
     "shell.execute_reply": "2025-07-29T03:08:29.068712Z",
     "shell.execute_reply.started": "2025-07-29T03:08:19.905958Z"
    }
   },
   "outputs": [
    {
     "name": "stdout",
     "output_type": "stream",
     "text": [
      "4583\n"
     ]
    }
   ],
   "source": [
    "storage = LocalStoredEquilibrationData(\"../data/stored_data\")\n",
    "print(len(storage._cached_retrieved_objects))"
   ]
  },
  {
   "cell_type": "code",
   "execution_count": 5,
   "id": "b2a1ef65-81c8-41fd-8fc3-e5d7ad3a8e07",
   "metadata": {
    "execution": {
     "iopub.execute_input": "2025-07-29T03:08:29.069486Z",
     "iopub.status.busy": "2025-07-29T03:08:29.069359Z",
     "iopub.status.idle": "2025-07-29T03:08:29.072169Z",
     "shell.execute_reply": "2025-07-29T03:08:29.071963Z",
     "shell.execute_reply.started": "2025-07-29T03:08:29.069476Z"
    }
   },
   "outputs": [
    {
     "data": {
      "text/plain": [
       "4583"
      ]
     },
     "execution_count": 5,
     "metadata": {},
     "output_type": "execute_result"
    }
   ],
   "source": [
    "len(storage._cached_retrieved_objects)"
   ]
  },
  {
   "cell_type": "markdown",
   "id": "763f31cd-81a9-4b2f-952d-39d2502572b1",
   "metadata": {},
   "source": [
    "## Add new amine data"
   ]
  },
  {
   "cell_type": "code",
   "execution_count": 6,
   "id": "306c6492-f1c2-43a9-ae61-42e18247a1d6",
   "metadata": {
    "execution": {
     "iopub.execute_input": "2025-07-29T03:08:29.072651Z",
     "iopub.status.busy": "2025-07-29T03:08:29.072470Z",
     "iopub.status.idle": "2025-07-29T03:08:29.085144Z",
     "shell.execute_reply": "2025-07-29T03:08:29.084846Z",
     "shell.execute_reply.started": "2025-07-29T03:08:29.072644Z"
    }
   },
   "outputs": [],
   "source": [
    "from openff.evaluator.datasets.datasets import PhysicalPropertyDataSet\n",
    "from openff.evaluator.datasets.curation.components import filtering, selection, thermoml\n",
    "from openff.evaluator.datasets.curation.components.selection import State, TargetState\n",
    "from openff.evaluator.datasets.curation.workflow import (\n",
    "    CurationWorkflow,\n",
    "    CurationWorkflowSchema,\n",
    ")\n",
    "\n",
    "from openff.evaluator.utils.checkmol import ChemicalEnvironment, analyse_functional_groups\n",
    "from eveq.storage.storage import PropertyBox"
   ]
  },
  {
   "cell_type": "code",
   "execution_count": 6,
   "id": "d067152f-f172-44e9-9912-adc4485a5420",
   "metadata": {
    "execution": {
     "iopub.execute_input": "2025-07-29T02:38:52.365865Z",
     "iopub.status.busy": "2025-07-29T02:38:52.365772Z",
     "iopub.status.idle": "2025-07-29T02:38:52.386829Z",
     "shell.execute_reply": "2025-07-29T02:38:52.386588Z",
     "shell.execute_reply.started": "2025-07-29T02:38:52.365857Z"
    }
   },
   "outputs": [],
   "source": [
    "# load existing intermediate filtered set\n",
    "df = pd.read_csv(\n",
    "    \"/Users/lily/pydev/old-ash-sage/01_download-data/physprop/intermediate/output/initial-filtered.csv\",\n",
    "    index_col=0\n",
    ")\n",
    "df[\"Id\"] = df[\"Id\"].astype(str)"
   ]
  },
  {
   "cell_type": "code",
   "execution_count": 8,
   "id": "696fb42f-c62a-4885-9bcd-0ef4f495eee4",
   "metadata": {
    "execution": {
     "iopub.execute_input": "2025-07-28T05:00:15.461268Z",
     "iopub.status.busy": "2025-07-28T05:00:15.461197Z",
     "iopub.status.idle": "2025-07-28T05:00:21.834870Z",
     "shell.execute_reply": "2025-07-28T05:00:21.834616Z",
     "shell.execute_reply.started": "2025-07-28T05:00:15.461259Z"
    }
   },
   "outputs": [
    {
     "name": "stderr",
     "output_type": "stream",
     "text": [
      "INFO:openff.evaluator.datasets.curation.workflow:Applying FilterByEnvironments\n",
      "INFO:openff.evaluator.datasets.curation.components.components:9082 data points were removed after applying the FilterByEnvironments component.\n",
      "INFO:openff.evaluator.datasets.curation.workflow:FilterByEnvironments applied\n"
     ]
    }
   ],
   "source": [
    "# # get amines\n",
    "# curation_schema = CurationWorkflowSchema(\n",
    "#     component_schemas=[\n",
    "        \n",
    "#         filtering.FilterByEnvironmentsSchema(environments=[\n",
    "#             ChemicalEnvironment.PrimaryAmine,\n",
    "#             ChemicalEnvironment.SecondaryAmine,\n",
    "#             ChemicalEnvironment.TertiaryAmine,\n",
    "#         ]),\n",
    "#     ]\n",
    "# )\n",
    "\n",
    "# amine_properties = CurationWorkflow.apply(df, curation_schema)"
   ]
  },
  {
   "cell_type": "code",
   "execution_count": 10,
   "id": "88674895-5dac-4a31-b7e8-b292435030d8",
   "metadata": {
    "execution": {
     "iopub.execute_input": "2025-07-29T02:39:31.401813Z",
     "iopub.status.busy": "2025-07-29T02:39:31.401262Z",
     "iopub.status.idle": "2025-07-29T02:39:37.948704Z",
     "shell.execute_reply": "2025-07-29T02:39:37.948082Z",
     "shell.execute_reply.started": "2025-07-29T02:39:31.401784Z"
    }
   },
   "outputs": [],
   "source": [
    "# the filter above is too strict -- all components have to match amines.\n",
    "cols = [x for x in df.columns if x.startswith(\"Component\")]\n",
    "amine_property_rows = []\n",
    "for _, row in df.iterrows():\n",
    "    components = []\n",
    "    for col in cols:\n",
    "        if not pd.isna(row[col]):\n",
    "            components.append(row[col])\n",
    "\n",
    "    for comp in components:\n",
    "        groups = [gp.value for gp in analyse_functional_groups(comp)]\n",
    "        if any(\"Amine\" in x for x in groups):\n",
    "            amine_property_rows.append(dict(row))\n",
    "            break\n",
    "\n",
    "amine_properties = pd.DataFrame(amine_property_rows)"
   ]
  },
  {
   "cell_type": "code",
   "execution_count": 11,
   "id": "dfd005cf-47a3-4d37-9c51-0a3d401e89e8",
   "metadata": {
    "execution": {
     "iopub.execute_input": "2025-07-29T02:39:45.342514Z",
     "iopub.status.busy": "2025-07-29T02:39:45.342068Z",
     "iopub.status.idle": "2025-07-29T02:39:45.347005Z",
     "shell.execute_reply": "2025-07-29T02:39:45.346023Z",
     "shell.execute_reply.started": "2025-07-29T02:39:45.342483Z"
    }
   },
   "outputs": [
    {
     "name": "stdout",
     "output_type": "stream",
     "text": [
      "1189 amine properties found\n"
     ]
    }
   ],
   "source": [
    "print(\n",
    "    f\"{len(amine_properties)} amine properties found\"\n",
    ")"
   ]
  },
  {
   "cell_type": "code",
   "execution_count": 12,
   "id": "44f776bb-9bc6-4f00-9b9f-55b61677e663",
   "metadata": {
    "execution": {
     "iopub.execute_input": "2025-07-29T02:39:49.191825Z",
     "iopub.status.busy": "2025-07-29T02:39:49.191333Z",
     "iopub.status.idle": "2025-07-29T02:39:51.099251Z",
     "shell.execute_reply": "2025-07-29T02:39:51.098923Z",
     "shell.execute_reply.started": "2025-07-29T02:39:49.191791Z"
    }
   },
   "outputs": [],
   "source": [
    "amine_dataset = PhysicalPropertyDataSet.from_pandas(amine_properties)"
   ]
  },
  {
   "cell_type": "code",
   "execution_count": 13,
   "id": "baf4ff58-b654-40a0-be14-845d95f56ef1",
   "metadata": {
    "execution": {
     "iopub.execute_input": "2025-07-29T02:39:56.085321Z",
     "iopub.status.busy": "2025-07-29T02:39:56.084369Z",
     "iopub.status.idle": "2025-07-29T02:39:56.091019Z",
     "shell.execute_reply": "2025-07-29T02:39:56.090324Z",
     "shell.execute_reply.started": "2025-07-29T02:39:56.085273Z"
    }
   },
   "outputs": [
    {
     "data": {
      "text/plain": [
       "<Substance CCCCOCCO{solv}{x=0.214079}|CNCCO{solv}{x=0.785921}>"
      ]
     },
     "execution_count": 13,
     "metadata": {},
     "output_type": "execute_result"
    }
   ],
   "source": [
    "amine_dataset.properties[-1].substance"
   ]
  },
  {
   "cell_type": "code",
   "execution_count": 14,
   "id": "d59f9864-b805-44a4-afd4-da2d2c7a41cf",
   "metadata": {
    "execution": {
     "iopub.execute_input": "2025-07-29T02:39:56.536280Z",
     "iopub.status.busy": "2025-07-29T02:39:56.535877Z",
     "iopub.status.idle": "2025-07-29T02:39:56.898631Z",
     "shell.execute_reply": "2025-07-29T02:39:56.898383Z",
     "shell.execute_reply.started": "2025-07-29T02:39:56.536256Z"
    }
   },
   "outputs": [
    {
     "name": "stdout",
     "output_type": "stream",
     "text": [
      "373 properties not equilibrated\n"
     ]
    }
   ],
   "source": [
    "not_equilibrated = []\n",
    "for physical_property in amine_dataset.properties:\n",
    "    if not storage.contains_all_property_boxes(physical_property):\n",
    "        not_equilibrated.append(physical_property)\n",
    "\n",
    "print(\n",
    "    f\"{len(not_equilibrated)} properties not equilibrated\"\n",
    ")"
   ]
  },
  {
   "cell_type": "code",
   "execution_count": 19,
   "id": "5a0db3e0-dc06-40a2-95c4-c200da493bfd",
   "metadata": {
    "execution": {
     "iopub.execute_input": "2025-07-29T02:41:56.736809Z",
     "iopub.status.busy": "2025-07-29T02:41:56.736307Z",
     "iopub.status.idle": "2025-07-29T02:41:56.994942Z",
     "shell.execute_reply": "2025-07-29T02:41:56.994685Z",
     "shell.execute_reply.started": "2025-07-29T02:41:56.736782Z"
    }
   },
   "outputs": [],
   "source": [
    "non_equilibrated_amines = PhysicalPropertyDataSet()\n",
    "non_equilibrated_amines.add_properties(*not_equilibrated)\n",
    "with open(\"amine-equilibration/dataset.json\", \"w\") as f:\n",
    "    f.write(non_equilibrated_amines.json())\n",
    "\n",
    "non_equilibrated_amines_df = non_equilibrated_amines.to_pandas()\n",
    "non_equilibrated_amines_df.to_csv(\"amine-equilibration/dataset.csv\")"
   ]
  },
  {
   "cell_type": "code",
   "execution_count": 7,
   "id": "5e04e707-8bd3-4e2a-a842-90e285cb194a",
   "metadata": {
    "execution": {
     "iopub.execute_input": "2025-07-29T03:06:50.766969Z",
     "iopub.status.busy": "2025-07-29T03:06:50.766891Z",
     "iopub.status.idle": "2025-07-29T03:06:51.331843Z",
     "shell.execute_reply": "2025-07-29T03:06:51.331532Z",
     "shell.execute_reply.started": "2025-07-29T03:06:50.766961Z"
    }
   },
   "outputs": [],
   "source": [
    "non_equilibrated_amines = PhysicalPropertyDataSet.from_json(\"amine-equilibration/dataset.json\")"
   ]
  },
  {
   "cell_type": "code",
   "execution_count": 8,
   "id": "a81ed31d-7eea-4ad1-858c-197686f443d3",
   "metadata": {
    "execution": {
     "iopub.execute_input": "2025-07-29T03:06:51.332241Z",
     "iopub.status.busy": "2025-07-29T03:06:51.332159Z",
     "iopub.status.idle": "2025-07-29T03:06:51.382990Z",
     "shell.execute_reply": "2025-07-29T03:06:51.382742Z",
     "shell.execute_reply.started": "2025-07-29T03:06:51.332233Z"
    }
   },
   "outputs": [],
   "source": [
    "boxes = set(\n",
    "    [\n",
    "        box\n",
    "         for prop in non_equilibrated_amines.properties\n",
    "         for box in PropertyBox.from_physical_property(prop, n_molecules=1000)\n",
    "    ]\n",
    ")"
   ]
  },
  {
   "cell_type": "code",
   "execution_count": 9,
   "id": "d4ad7002-c253-4c8c-b945-1603404486e5",
   "metadata": {
    "execution": {
     "iopub.execute_input": "2025-07-29T03:06:51.383415Z",
     "iopub.status.busy": "2025-07-29T03:06:51.383342Z",
     "iopub.status.idle": "2025-07-29T03:06:51.385822Z",
     "shell.execute_reply": "2025-07-29T03:06:51.385574Z",
     "shell.execute_reply.started": "2025-07-29T03:06:51.383408Z"
    }
   },
   "outputs": [
    {
     "data": {
      "text/plain": [
       "PropertyBox(substance=CN(CCO)CCO{solv}{x=1.000000}, n_molecules=1000, thermodynamic_state=T=298.15 K P=101.0 kPa, phase=Liquid)"
      ]
     },
     "execution_count": 9,
     "metadata": {},
     "output_type": "execute_result"
    }
   ],
   "source": [
    "box = list(boxes)[0]\n",
    "box"
   ]
  },
  {
   "cell_type": "code",
   "execution_count": null,
   "id": "86df9f30-d8bf-485b-a9c7-ee5d2cff73bb",
   "metadata": {},
   "outputs": [],
   "source": []
  }
 ],
 "metadata": {
  "kernelspec": {
   "display_name": "Python (evaluator-050)",
   "language": "python",
   "name": "evaluator-050"
  },
  "language_info": {
   "codemirror_mode": {
    "name": "ipython",
    "version": 3
   },
   "file_extension": ".py",
   "mimetype": "text/x-python",
   "name": "python",
   "nbconvert_exporter": "python",
   "pygments_lexer": "ipython3",
   "version": "3.11.12"
  }
 },
 "nbformat": 4,
 "nbformat_minor": 5
}
